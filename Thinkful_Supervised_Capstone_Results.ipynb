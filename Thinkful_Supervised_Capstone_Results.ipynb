{
 "cells": [
  {
   "cell_type": "code",
   "execution_count": 1,
   "metadata": {},
   "outputs": [
    {
     "name": "stderr",
     "output_type": "stream",
     "text": [
      "/home/keithlaskay/anaconda3/lib/python3.6/importlib/_bootstrap.py:219: RuntimeWarning: numpy.dtype size changed, may indicate binary incompatibility. Expected 96, got 88\n",
      "  return f(*args, **kwds)\n",
      "/home/keithlaskay/anaconda3/lib/python3.6/importlib/_bootstrap.py:219: RuntimeWarning: numpy.dtype size changed, may indicate binary incompatibility. Expected 96, got 88\n",
      "  return f(*args, **kwds)\n"
     ]
    }
   ],
   "source": [
    "import pandas as pd\n",
    "import numpy as np\n",
    "import matplotlib.pyplot as plt\n",
    "import seaborn as sns"
   ]
  },
  {
   "cell_type": "code",
   "execution_count": 3,
   "metadata": {},
   "outputs": [],
   "source": [
    "df = pd.read_excel('./data/Supervised_Upsampled Results.xlsx')"
   ]
  },
  {
   "cell_type": "code",
   "execution_count": 4,
   "metadata": {},
   "outputs": [
    {
     "data": {
      "text/html": [
       "<div>\n",
       "<style scoped>\n",
       "    .dataframe tbody tr th:only-of-type {\n",
       "        vertical-align: middle;\n",
       "    }\n",
       "\n",
       "    .dataframe tbody tr th {\n",
       "        vertical-align: top;\n",
       "    }\n",
       "\n",
       "    .dataframe thead th {\n",
       "        text-align: right;\n",
       "    }\n",
       "</style>\n",
       "<table border=\"1\" class=\"dataframe\">\n",
       "  <thead>\n",
       "    <tr style=\"text-align: right;\">\n",
       "      <th></th>\n",
       "      <th>Metric</th>\n",
       "      <th>Logistic Regression</th>\n",
       "      <th>Decision Tree</th>\n",
       "      <th>Gradient Boost</th>\n",
       "      <th>Gradient Boost Depth 5</th>\n",
       "      <th>Random Forest</th>\n",
       "      <th>Random Forest Weighted</th>\n",
       "      <th>XG Boost</th>\n",
       "      <th>SVM Classifier</th>\n",
       "      <th>Voting Classifier</th>\n",
       "    </tr>\n",
       "  </thead>\n",
       "  <tbody>\n",
       "    <tr>\n",
       "      <th>0</th>\n",
       "      <td>Classification_Accuracy</td>\n",
       "      <td>0.564162</td>\n",
       "      <td>0.897802</td>\n",
       "      <td>9.411421e-01</td>\n",
       "      <td>9.515168e-01</td>\n",
       "      <td>0.782910</td>\n",
       "      <td>0.809714</td>\n",
       "      <td>0.951588</td>\n",
       "      <td>0.832013</td>\n",
       "      <td>0.927926</td>\n",
       "    </tr>\n",
       "    <tr>\n",
       "      <th>1</th>\n",
       "      <td>Type_I _Error</td>\n",
       "      <td>22679.000000</td>\n",
       "      <td>1611.000000</td>\n",
       "      <td>0.000000e+00</td>\n",
       "      <td>7.200000e+01</td>\n",
       "      <td>11393.000000</td>\n",
       "      <td>15790.000000</td>\n",
       "      <td>32.000000</td>\n",
       "      <td>1542.000000</td>\n",
       "      <td>2.000000</td>\n",
       "    </tr>\n",
       "    <tr>\n",
       "      <th>2</th>\n",
       "      <td>Type_II _Error</td>\n",
       "      <td>26440.000000</td>\n",
       "      <td>9934.000000</td>\n",
       "      <td>6.649000e+03</td>\n",
       "      <td>5.405000e+03</td>\n",
       "      <td>13131.000000</td>\n",
       "      <td>5706.000000</td>\n",
       "      <td>5437.000000</td>\n",
       "      <td>17435.000000</td>\n",
       "      <td>8140.000000</td>\n",
       "    </tr>\n",
       "    <tr>\n",
       "      <th>3</th>\n",
       "      <td>Recall</td>\n",
       "      <td>0.532441</td>\n",
       "      <td>0.824329</td>\n",
       "      <td>8.824206e+15</td>\n",
       "      <td>9.044192e+15</td>\n",
       "      <td>0.767794</td>\n",
       "      <td>0.899096</td>\n",
       "      <td>0.903853</td>\n",
       "      <td>0.691683</td>\n",
       "      <td>0.856054</td>\n",
       "    </tr>\n",
       "    <tr>\n",
       "      <th>4</th>\n",
       "      <td>Specificity</td>\n",
       "      <td>0.598018</td>\n",
       "      <td>0.971445</td>\n",
       "      <td>1.000000e+00</td>\n",
       "      <td>9.987238e-01</td>\n",
       "      <td>0.798061</td>\n",
       "      <td>0.720125</td>\n",
       "      <td>0.999433</td>\n",
       "      <td>0.972668</td>\n",
       "      <td>0.999965</td>\n",
       "    </tr>\n",
       "    <tr>\n",
       "      <th>5</th>\n",
       "      <td>False_Positive_Rate</td>\n",
       "      <td>0.401982</td>\n",
       "      <td>0.028555</td>\n",
       "      <td>0.000000e+00</td>\n",
       "      <td>1.276188e-03</td>\n",
       "      <td>0.201939</td>\n",
       "      <td>0.279875</td>\n",
       "      <td>0.000567</td>\n",
       "      <td>0.027332</td>\n",
       "      <td>0.000035</td>\n",
       "    </tr>\n",
       "    <tr>\n",
       "      <th>6</th>\n",
       "      <td>Precision</td>\n",
       "      <td>0.533677</td>\n",
       "      <td>0.826243</td>\n",
       "      <td>8.844695e-01</td>\n",
       "      <td>9.065192e-01</td>\n",
       "      <td>0.769577</td>\n",
       "      <td>0.901184</td>\n",
       "      <td>0.905952</td>\n",
       "      <td>0.693289</td>\n",
       "      <td>0.858042</td>\n",
       "    </tr>\n",
       "  </tbody>\n",
       "</table>\n",
       "</div>"
      ],
      "text/plain": [
       "                    Metric  Logistic Regression  Decision Tree  \\\n",
       "0  Classification_Accuracy             0.564162       0.897802   \n",
       "1            Type_I _Error         22679.000000    1611.000000   \n",
       "2           Type_II _Error         26440.000000    9934.000000   \n",
       "3                   Recall             0.532441       0.824329   \n",
       "4              Specificity             0.598018       0.971445   \n",
       "5      False_Positive_Rate             0.401982       0.028555   \n",
       "6                Precision             0.533677       0.826243   \n",
       "\n",
       "   Gradient Boost  Gradient Boost Depth 5  Random Forest  \\\n",
       "0    9.411421e-01            9.515168e-01       0.782910   \n",
       "1    0.000000e+00            7.200000e+01   11393.000000   \n",
       "2    6.649000e+03            5.405000e+03   13131.000000   \n",
       "3    8.824206e+15            9.044192e+15       0.767794   \n",
       "4    1.000000e+00            9.987238e-01       0.798061   \n",
       "5    0.000000e+00            1.276188e-03       0.201939   \n",
       "6    8.844695e-01            9.065192e-01       0.769577   \n",
       "\n",
       "   Random Forest Weighted     XG Boost  SVM Classifier  Voting Classifier  \n",
       "0                0.809714     0.951588        0.832013           0.927926  \n",
       "1            15790.000000    32.000000     1542.000000           2.000000  \n",
       "2             5706.000000  5437.000000    17435.000000        8140.000000  \n",
       "3                0.899096     0.903853        0.691683           0.856054  \n",
       "4                0.720125     0.999433        0.972668           0.999965  \n",
       "5                0.279875     0.000567        0.027332           0.000035  \n",
       "6                0.901184     0.905952        0.693289           0.858042  "
      ]
     },
     "execution_count": 4,
     "metadata": {},
     "output_type": "execute_result"
    }
   ],
   "source": [
    "df.head(10)"
   ]
  },
  {
   "cell_type": "code",
   "execution_count": 5,
   "metadata": {},
   "outputs": [
    {
     "data": {
      "text/plain": [
       "Logistic Regression       0.564162\n",
       "Decision Tree             0.897802\n",
       "Gradient Boost            0.941142\n",
       "Gradient Boost Depth 5    0.951517\n",
       "Random Forest              0.78291\n",
       "Random Forest Weighted    0.809714\n",
       "XG Boost                  0.951588\n",
       "SVM Classifier            0.832013\n",
       "Voting Classifier         0.927926\n",
       "Name: 0, dtype: object"
      ]
     },
     "execution_count": 5,
     "metadata": {},
     "output_type": "execute_result"
    }
   ],
   "source": [
    "#sns.barplot(\n",
    "scores = df.iloc[0, 1:]\n",
    "scores\n",
    "# metrics = df.Metric"
   ]
  },
  {
   "cell_type": "code",
   "execution_count": 6,
   "metadata": {},
   "outputs": [
    {
     "data": {
      "text/plain": [
       "Index(['Logistic Regression', 'Decision Tree', 'Gradient Boost',\n",
       "       'Gradient Boost Depth 5', 'Random Forest', 'Random Forest Weighted',\n",
       "       'XG Boost', 'SVM Classifier', 'Voting Classifier'],\n",
       "      dtype='object')"
      ]
     },
     "execution_count": 6,
     "metadata": {},
     "output_type": "execute_result"
    }
   ],
   "source": [
    "scores.index"
   ]
  },
  {
   "cell_type": "code",
   "execution_count": 7,
   "metadata": {},
   "outputs": [
    {
     "data": {
      "image/png": "[encoded data removed]",
      "text/plain": [
       "<Figure size 432x288 with 1 Axes>"
      ]
     },
     "metadata": {
      "needs_background": "light"
     },
     "output_type": "display_data"
    }
   ],
   "source": [
    "plt.grid(alpha=.9)\n",
    "sns.barplot(x=scores.index, y=scores.values)\n",
    "plt.xticks(rotation=90)\n",
    "plt.xlabel('Model')\n",
    "plt.ylabel('Classification Accuracy');\n"
   ]
  },
  {
   "cell_type": "code",
   "execution_count": null,
   "metadata": {},
   "outputs": [],
   "source": []
  }
 ],
 "metadata": {
  "kernelspec": {
   "display_name": "Python 3",
   "language": "python",
   "name": "python3"
  },
  "language_info": {
   "codemirror_mode": {
    "name": "ipython",
    "version": 3
   },
   "file_extension": ".py",
   "mimetype": "text/x-python",
   "name": "python",
   "nbconvert_exporter": "python",
   "pygments_lexer": "ipython3",
   "version": "3.6.6"
  }
 },
 "nbformat": 4,
 "nbformat_minor": 2
}
